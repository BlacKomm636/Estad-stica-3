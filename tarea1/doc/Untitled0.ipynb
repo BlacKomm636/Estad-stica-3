{
  "nbformat": 4,
  "nbformat_minor": 0,
  "metadata": {
    "colab": {
      "provenance": []
    },
    "kernelspec": {
      "name": "python3",
      "display_name": "Python 3"
    },
    "language_info": {
      "name": "python"
    }
  },
  "cells": [
    {
      "cell_type": "code",
      "execution_count": null,
      "metadata": {
        "id": "gUMWeKtQzdWV"
      },
      "outputs": [],
      "source": []
    },
    {
      "cell_type": "markdown",
      "source": [
        "# Solución a la tarea 1 de estadística 3\n",
        "\n",
        "Solución de la tarea 1. El PDF que está adjunto en la carpeta llamada **doc** que hace parte de la carpeta llamada **tarea 1**.\n",
        "\n",
        "1. Utilizas el siguiente set de datos para calcular paso por paso (mostrar\n",
        "procedimiento y fórmulas):\n",
        "\n",
        "**Nota:** Decidí organizarlo de menor a mayor usando la variable \"Initial Label\", también se señalaron los datos que se van a usar para el entrenamiento y que asi sea más fácil diferenciar el entrenamiento de las pruebas.\n",
        "![Datos Punto 1](DatosPunto1.png)\n",
        "\n",
        "\n",
        "**1.1** ¿Cuál es la media, mediana y desviación estándar?, y la moda y los valores repeticiones de la moda para los datos categóricos. (Media, mediana, moda, frecuencia moda, desviación estándar)  \n",
        "**1.2** Dibujar un boxplot a mano. Utilizando los datos de la tabla 1 y las siguientes proporciones. (Mínimo, Q1, Q2, Q3, máximo, IQR, limite inferior, limite superior)  \n",
        "**1.3** ¿Cuál es la covarianza entre las 2 variables X(GDP), Y(Population)? ((Xi-X̂), (Yi-Ŷ), (Xi-X̂)/DESVESTA, (Yi-Ŷ)/DESVESTA, Covarianza, dato obtenido en la covarianza)  \n",
        "**1.4** ¿Cuál es la correlación entre la variable  X(GDP), Y(Population)? (Denominador de X, Denominador de Y, Denominador total, dato obtenido en r)  \n",
        "**1.5** Explica la relación entre covarianza y correlación.\n",
        "\n",
        "**Las respuestas de los anteriores puntos están en un archivo de excel llamado \"Tarea1_Punto1_KOMM.xlsx\" que se encuentra en la carpeta llamada doc que hace parte de la carpeta llamada tarea 1.** El archivo tiene comentarios en varias partes, en las preguntas de este archivo indiqué entre paréntesis los datos que están comentados en sus respectivos puntos.\n"
      ],
      "metadata": {
        "id": "gppa1JaRzrca"
      }
    },
    {
      "cell_type": "code",
      "source": [],
      "metadata": {
        "id": "4kad9YHrz-Ji"
      },
      "execution_count": null,
      "outputs": []
    }
  ]
}