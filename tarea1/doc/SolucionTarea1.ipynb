# Solución a la tarea 1 de estadística 3

Todas las soluciones son el resultado a las preguntas realizadas en el PDF que está adjunto en la carpeta llamada **doc** que hace parte de la carpeta llamada **tarea 1**.

1. Utilizas el siguiente set de datos para calcular paso por paso (mostrar
procedimiento y fórmulas):
